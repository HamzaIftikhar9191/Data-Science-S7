{
 "cells": [
  {
   "cell_type": "code",
   "execution_count": 2,
   "id": "397c5290-2d1b-4339-aa76-d4d336f6b36f",
   "metadata": {},
   "outputs": [],
   "source": [
    "#step 2\n",
    "import pandas as pd\n",
    "\n",
    "# List of CSV files to concatenate\n",
    "csv_files = ['cfd.csv', 'isb.csv', 'khi.csv', 'pew.csv', 'lhr.csv']\n",
    "\n",
    "# Read and concatenate all CSV files into a single DataFrame\n",
    "df_list = [pd.read_csv(file) for file in csv_files]\n",
    "concatenated_df = pd.concat(df_list, ignore_index=True)\n",
    "\n",
    "# Save the concatenated DataFrame to a new CSV file\n",
    "concatenated_df.to_csv('fast_faculty.csv', index=False)\n"
   ]
  },
  {
   "cell_type": "code",
   "execution_count": 3,
   "id": "c6ac772e-c3fa-4e07-8b8c-86a319128513",
   "metadata": {},
   "outputs": [
    {
     "name": "stdout",
     "output_type": "stream",
     "text": [
      "Sampled data has been saved to sample.csv successfully.\n"
     ]
    }
   ],
   "source": [
    "#step 3\n",
    "\n",
    "# Load the fast_faculty.csv file into a DataFrame named faculty\n",
    "faculty = pd.read_csv('fast_faculty.csv')\n",
    "\n",
    "# Calculate the fraction value based on the last digit of your Student ID\n",
    "last_digit = 7  # Last digit of your Student ID 21L-6197\n",
    "frac_value = last_digit / 10\n",
    "\n",
    "# Sample the DataFrame using the calculated fraction value\n",
    "sample_ = faculty.sample(frac=frac_value)\n",
    "\n",
    "# Save the sampled DataFrame to sample.csv\n",
    "sample_.to_csv('sample.csv', index=False)\n",
    "\n",
    "print(\"Sampled data has been saved to sample.csv successfully.\")\n"
   ]
  },
  {
   "cell_type": "code",
   "execution_count": null,
   "id": "d1e44113-9d25-4be0-8b4d-ff2e33393b5e",
   "metadata": {},
   "outputs": [],
   "source": []
  }
 ],
 "metadata": {
  "kernelspec": {
   "display_name": "Python 3 (ipykernel)",
   "language": "python",
   "name": "python3"
  },
  "language_info": {
   "codemirror_mode": {
    "name": "ipython",
    "version": 3
   },
   "file_extension": ".py",
   "mimetype": "text/x-python",
   "name": "python",
   "nbconvert_exporter": "python",
   "pygments_lexer": "ipython3",
   "version": "3.12.5"
  }
 },
 "nbformat": 4,
 "nbformat_minor": 5
}
